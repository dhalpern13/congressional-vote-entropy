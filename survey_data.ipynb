{
 "cells": [
  {
   "cell_type": "code",
   "execution_count": 1,
   "metadata": {
    "collapsed": true,
    "ExecuteTime": {
     "end_time": "2023-07-06T20:56:29.163208Z",
     "start_time": "2023-07-06T20:56:27.965736Z"
    }
   },
   "outputs": [],
   "source": [
    "import pandas as pd\n",
    "from entropy_funcs import greedy_prediction_entropy, overall_prediction_entropy, prediction_entropy\n"
   ]
  },
  {
   "cell_type": "code",
   "execution_count": 2,
   "outputs": [
    {
     "name": "stderr",
     "output_type": "stream",
     "text": [
      "/var/folders/95/245h4tm10dq3x154xf20g1jr0000gn/T/ipykernel_20946/2235517724.py:1: DtypeWarning: Columns (359,360,363,364,613,614,617,618) have mixed types. Specify dtype option on import or set low_memory=False.\n",
      "  df = pd.read_csv('data/CES22_Common.csv')\n"
     ]
    },
    {
     "data": {
      "text/plain": "(60000, 697)"
     },
     "execution_count": 2,
     "metadata": {},
     "output_type": "execute_result"
    }
   ],
   "source": [
    "df = pd.read_csv('data/CES22_Common.csv')\n",
    "df.shape\n"
   ],
   "metadata": {
    "collapsed": false,
    "ExecuteTime": {
     "end_time": "2023-07-06T20:56:34.006574Z",
     "start_time": "2023-07-06T20:56:29.169286Z"
    }
   }
  },
  {
   "cell_type": "code",
   "execution_count": 3,
   "outputs": [
    {
     "data": {
      "text/plain": "0        145\n1        151\n2        176\n3        134\n4        166\n        ... \n59995    251\n59996    173\n59997    255\n59998    132\n59999    160\nLength: 60000, dtype: int64"
     },
     "execution_count": 3,
     "metadata": {},
     "output_type": "execute_result"
    }
   ],
   "source": [
    "df.isna().sum(axis=1)"
   ],
   "metadata": {
    "collapsed": false,
    "ExecuteTime": {
     "end_time": "2023-07-06T20:56:41.520904Z",
     "start_time": "2023-07-06T20:56:41.084664Z"
    }
   }
  },
  {
   "cell_type": "code",
   "execution_count": 4,
   "outputs": [
    {
     "data": {
      "text/plain": "[array([1, 2]),\n array([1, 2]),\n array([1, 2]),\n array([2, 1]),\n array([2, 1]),\n array([2, 5, 4, 6, 1, 3, 0]),\n array([3, 2, 1, 4, 5, 0]),\n array([2, 1]),\n array([2, 1]),\n array([2, 1]),\n array([2, 1]),\n array([2, 1]),\n array([2, 1]),\n array([2, 1]),\n array([2, 1]),\n array([2, 1]),\n array([1, 2]),\n array([1, 2]),\n array([2, 1]),\n array([2, 3, 1, 4, 0]),\n array([1, 2]),\n array([2, 1]),\n array([2, 1]),\n array([2, 1]),\n array([2, 1]),\n array([2, 1]),\n array([2, 1]),\n array([2, 1]),\n array([2, 1]),\n array([2, 1]),\n array([2, 1]),\n array([2, 1]),\n array([2, 1]),\n array([2, 1]),\n array([1, 2]),\n array([1, 2]),\n array([2, 1]),\n array([1, 2]),\n array([2, 1]),\n array([2, 1]),\n array([2, 1]),\n array([2, 1]),\n array([2, 1]),\n array([2, 1]),\n array([3, 1, 2, 4, 5, 0]),\n array([2, 4, 1, 3, 0]),\n array([2, 4, 1, 3, 0]),\n array([2, 4, 1, 5, 3, 0]),\n array([3, 4, 5, 2, 1, 0]),\n array([4, 2, 3, 1, 5, 0]),\n array([2, 1]),\n array([2, 1]),\n array([1, 2]),\n array([1, 2]),\n array([2, 1]),\n array([2, 1]),\n array([2, 1]),\n array([2, 1]),\n array([1, 2, 0]),\n array([1, 2, 0]),\n array([2, 1, 0]),\n array([1, 2, 0]),\n array([2, 1, 0]),\n array([1, 2, 0]),\n array([2, 1, 0]),\n array([1, 2, 0]),\n array([1, 2, 0]),\n array([2, 1, 0]),\n array([1, 2, 0]),\n array([2, 1, 0]),\n array([2, 1, 0]),\n array([2, 1, 0]),\n array([1, 2, 0]),\n array([2, 1, 0]),\n array([2, 1, 0]),\n array([2, 1, 0]),\n array([2, 1, 0]),\n array([2, 1, 0]),\n array([1, 2, 0]),\n array([1, 2, 0]),\n array([1, 2, 0]),\n array([1, 2, 0]),\n array([2, 1, 0]),\n array([1, 2, 0]),\n array([1, 2, 0]),\n array([2, 1, 0]),\n array([1, 2, 0]),\n array([1, 2, 0]),\n array([1, 2, 0]),\n array([1, 2, 0]),\n array([1, 6, 2, 4, 3, 8, 5, 7, 0]),\n array([4, 1, 2, 5, 8, 7, 6, 3, 0]),\n array([7, 6, 4, 5, 8, 1, 3, 2, 0]),\n array([3, 1, 2, 5, 4, 8, 6, 7, 0]),\n array([7, 5, 4, 8, 6, 2, 3, 1, 0]),\n array([7, 5, 6, 4, 8, 2, 1, 3, 0]),\n array([1, 2, 0]),\n array([1, 2, 0]),\n array([1, 2, 0]),\n array([1, 2, 0]),\n array([1, 2, 0]),\n array([1, 2, 0]),\n array([1, 2, 0]),\n array([1, 2, 0]),\n array([4, 5, 6, 1, 3, 2, 0])]"
     },
     "execution_count": 4,
     "metadata": {},
     "output_type": "execute_result"
    }
   ],
   "source": [
    "df = df[[column for column in df.columns if column.startswith('CC22_3')]]\n",
    "df = df.select_dtypes(exclude=['object'])\n",
    "df = df[[column for column in df.columns if df[column].isna().sum() <= 100]]\n",
    "df = df.fillna(0)\n",
    "df = df.astype(int)\n",
    "[df[column].unique() for column in df.columns]"
   ],
   "metadata": {
    "collapsed": false,
    "ExecuteTime": {
     "end_time": "2023-07-06T20:56:42.931208Z",
     "start_time": "2023-07-06T20:56:42.686065Z"
    }
   }
  },
  {
   "cell_type": "code",
   "execution_count": 5,
   "outputs": [
    {
     "name": "stdout",
     "output_type": "stream",
     "text": [
      "['CC22_302', 'CC22_303', 'CC22_307', 'CC22_309e', 'CC22_310a', 'CC22_310b', 'CC22_320a', 'CC22_320b', 'CC22_320c', 'CC22_340a', 'CC22_340c', 'CC22_340d', 'CC22_340e', 'CC22_340f', 'CC22_340g', 'CC22_361']\n"
     ]
    }
   ],
   "source": [
    "print([column for column in df.columns if len(df[column].unique()) > 3])"
   ],
   "metadata": {
    "collapsed": false,
    "ExecuteTime": {
     "end_time": "2023-07-06T20:56:44.199311Z",
     "start_time": "2023-07-06T20:56:44.138404Z"
    }
   }
  },
  {
   "cell_type": "code",
   "execution_count": 6,
   "outputs": [],
   "source": [
    "exclude_non_binary = df[[column for column in df.columns if len(df[column].unique()) <= 3]]"
   ],
   "metadata": {
    "collapsed": false,
    "ExecuteTime": {
     "end_time": "2023-07-06T20:56:45.633586Z",
     "start_time": "2023-07-06T20:56:45.562701Z"
    }
   }
  },
  {
   "cell_type": "code",
   "execution_count": 7,
   "outputs": [
    {
     "name": "stderr",
     "output_type": "stream",
     "text": [
      "100%|██████████| 89/89 [00:11<00:00,  7.87it/s]\n"
     ]
    },
    {
     "name": "stdout",
     "output_type": "stream",
     "text": [
      "CC22_350c\n"
     ]
    },
    {
     "name": "stderr",
     "output_type": "stream",
     "text": [
      "100%|██████████| 88/88 [00:20<00:00,  4.20it/s]\n"
     ]
    },
    {
     "name": "stdout",
     "output_type": "stream",
     "text": [
      "CC22_331d\n"
     ]
    },
    {
     "name": "stderr",
     "output_type": "stream",
     "text": [
      "100%|██████████| 87/87 [00:43<00:00,  1.99it/s]\n"
     ]
    },
    {
     "name": "stdout",
     "output_type": "stream",
     "text": [
      "CC22_321_4\n"
     ]
    },
    {
     "name": "stderr",
     "output_type": "stream",
     "text": [
      "100%|██████████| 86/86 [01:13<00:00,  1.17it/s]\n"
     ]
    },
    {
     "name": "stdout",
     "output_type": "stream",
     "text": [
      "CC22_309c_10\n"
     ]
    },
    {
     "name": "stderr",
     "output_type": "stream",
     "text": [
      "100%|██████████| 85/85 [01:59<00:00,  1.41s/it]"
     ]
    },
    {
     "name": "stdout",
     "output_type": "stream",
     "text": [
      "CC22_309a_5\n"
     ]
    },
    {
     "name": "stderr",
     "output_type": "stream",
     "text": [
      "\n"
     ]
    },
    {
     "data": {
      "text/plain": "['CC22_350c', 'CC22_331d', 'CC22_321_4', 'CC22_309c_10', 'CC22_309a_5']"
     },
     "execution_count": 7,
     "metadata": {},
     "output_type": "execute_result"
    }
   ],
   "source": [
    "prediction_set = greedy_prediction_entropy(5, exclude_non_binary)\n",
    "# prediction_set = ['CC22_333d', 'CC22_330c', 'CC22_333a', 'CC22_309c_9', 'CC22_300_1']\n",
    "prediction_set"
   ],
   "metadata": {
    "collapsed": false,
    "ExecuteTime": {
     "end_time": "2023-07-06T21:01:23.547186Z",
     "start_time": "2023-07-06T20:56:54.663506Z"
    }
   }
  },
  {
   "cell_type": "code",
   "execution_count": 8,
   "outputs": [
    {
     "name": "stdout",
     "output_type": "stream",
     "text": [
      "0.6372949402933213\n",
      "0.6085260684707803\n",
      "0.5842373851491552\n",
      "0.5644430123029176\n",
      "0.5476555747477859\n"
     ]
    }
   ],
   "source": [
    "for i in range(5):\n",
    "    print(prediction_entropy(prediction_set[:i + 1], exclude_non_binary))"
   ],
   "metadata": {
    "collapsed": false,
    "ExecuteTime": {
     "end_time": "2023-07-06T21:02:08.359284Z",
     "start_time": "2023-07-06T21:02:04.970596Z"
    }
   }
  },
  {
   "cell_type": "code",
   "execution_count": 8,
   "outputs": [
    {
     "data": {
      "text/plain": "0.42179812865774957"
     },
     "execution_count": 8,
     "metadata": {},
     "output_type": "execute_result"
    }
   ],
   "source": [
    "# opt_prediction_set = optimal_prediction_entropy(2, exclude_non_binary)\n",
    "opt_prediction_set = ('CC22_331d', 'CC22_350c')\n",
    "prediction_entropy(opt_prediction_set, exclude_non_binary)"
   ],
   "metadata": {
    "collapsed": false,
    "ExecuteTime": {
     "end_time": "2023-06-30T18:56:32.539007Z",
     "start_time": "2023-06-30T18:56:32.235269Z"
    }
   }
  },
  {
   "cell_type": "code",
   "execution_count": 9,
   "outputs": [
    {
     "data": {
      "text/plain": "0.48721218640596414"
     },
     "execution_count": 9,
     "metadata": {},
     "output_type": "execute_result"
    }
   ],
   "source": [
    "overall_prediction_entropy(exclude_non_binary)"
   ],
   "metadata": {
    "collapsed": false,
    "ExecuteTime": {
     "end_time": "2023-07-06T21:02:14.954335Z",
     "start_time": "2023-07-06T21:02:14.947534Z"
    }
   }
  },
  {
   "cell_type": "code",
   "execution_count": 10,
   "outputs": [],
   "source": [
    "df = df.drop(columns=['CC22_361'])"
   ],
   "metadata": {
    "collapsed": false,
    "ExecuteTime": {
     "end_time": "2023-06-30T18:56:32.644126Z",
     "start_time": "2023-06-30T18:56:32.638566Z"
    }
   }
  },
  {
   "cell_type": "code",
   "execution_count": 11,
   "outputs": [],
   "source": [
    "def numerical_to_binary(value, max_val=8):\n",
    "    if value == 0:\n",
    "        return 0\n",
    "    if max_val % 2 == 0:\n",
    "        if value == max_val:\n",
    "            return 0\n",
    "        thresh = max_val / 2\n",
    "    else:\n",
    "        thresh = (max_val + 1) / 2\n",
    "    if value >= thresh:\n",
    "        return 2\n",
    "    else:\n",
    "        return 1\n",
    "\n",
    "for column in df.columns:\n",
    "    unique = df[column].unique()\n",
    "    if len(unique) > 3:\n",
    "        df[column] = df[column].apply(numerical_to_binary, max_val = max(unique))\n",
    "\n"
   ],
   "metadata": {
    "collapsed": false,
    "ExecuteTime": {
     "end_time": "2023-06-30T18:56:33.369910Z",
     "start_time": "2023-06-30T18:56:32.645174Z"
    }
   }
  },
  {
   "cell_type": "code",
   "execution_count": 12,
   "outputs": [],
   "source": [
    "# greedy_all = greedy_prediction_entropy(5, df)\n",
    "greedy_all = ['CC22_350c', 'CC22_340e', 'CC22_331d', 'CC22_310b', 'CC22_321_4']"
   ],
   "metadata": {
    "collapsed": false,
    "ExecuteTime": {
     "end_time": "2023-06-30T18:56:33.374613Z",
     "start_time": "2023-06-30T18:56:33.370762Z"
    }
   }
  },
  {
   "cell_type": "code",
   "execution_count": 13,
   "outputs": [
    {
     "data": {
      "text/plain": "0.405422012842573"
     },
     "execution_count": 13,
     "metadata": {},
     "output_type": "execute_result"
    }
   ],
   "source": [
    "prediction_entropy(greedy_all, df)"
   ],
   "metadata": {
    "collapsed": false,
    "ExecuteTime": {
     "end_time": "2023-06-30T18:56:36.409179Z",
     "start_time": "2023-06-30T18:56:33.376006Z"
    }
   }
  },
  {
   "cell_type": "code",
   "execution_count": 14,
   "outputs": [
    {
     "data": {
      "text/plain": "0.5216436074885905"
     },
     "execution_count": 14,
     "metadata": {},
     "output_type": "execute_result"
    }
   ],
   "source": [
    "overall_prediction_entropy(df)"
   ],
   "metadata": {
    "collapsed": false,
    "ExecuteTime": {
     "end_time": "2023-06-30T18:56:36.491341Z",
     "start_time": "2023-06-30T18:56:36.409894Z"
    }
   }
  },
  {
   "cell_type": "code",
   "execution_count": 14,
   "outputs": [],
   "source": [],
   "metadata": {
    "collapsed": false,
    "ExecuteTime": {
     "end_time": "2023-06-30T18:56:36.494778Z",
     "start_time": "2023-06-30T18:56:36.491897Z"
    }
   }
  }
 ],
 "metadata": {
  "kernelspec": {
   "display_name": "Python 3",
   "language": "python",
   "name": "python3"
  },
  "language_info": {
   "codemirror_mode": {
    "name": "ipython",
    "version": 2
   },
   "file_extension": ".py",
   "mimetype": "text/x-python",
   "name": "python",
   "nbconvert_exporter": "python",
   "pygments_lexer": "ipython2",
   "version": "2.7.6"
  }
 },
 "nbformat": 4,
 "nbformat_minor": 0
}
