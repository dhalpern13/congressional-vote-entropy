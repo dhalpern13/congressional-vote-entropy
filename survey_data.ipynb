{
 "cells": [
  {
   "cell_type": "code",
   "execution_count": 1,
   "metadata": {
    "collapsed": true,
    "ExecuteTime": {
     "end_time": "2023-07-12T14:51:23.160854Z",
     "start_time": "2023-07-12T14:51:19.939425Z"
    }
   },
   "outputs": [
    {
     "name": "stderr",
     "output_type": "stream",
     "text": [
      "\n",
      "KeyboardInterrupt\n",
      "\n"
     ]
    }
   ],
   "source": [
    "import pandas as pd\n",
    "from entropy_funcs import greedy_prediction_entropy, overall_prediction_entropy, prediction_entropy\n",
    "from sklearn.model_selection import train_test_split\n"
   ]
  },
  {
   "cell_type": "code",
   "execution_count": null,
   "outputs": [],
   "source": [
    "df = pd.read_csv('data/CES22_Common.csv')\n",
    "df.shape\n"
   ],
   "metadata": {
    "collapsed": false
   }
  },
  {
   "cell_type": "code",
   "execution_count": 3,
   "outputs": [
    {
     "data": {
      "text/plain": "0        145\n1        151\n2        176\n3        134\n4        166\n        ... \n59995    251\n59996    173\n59997    255\n59998    132\n59999    160\nLength: 60000, dtype: int64"
     },
     "execution_count": 3,
     "metadata": {},
     "output_type": "execute_result"
    }
   ],
   "source": [
    "df.isna().sum(axis=1)"
   ],
   "metadata": {
    "collapsed": false,
    "ExecuteTime": {
     "end_time": "2023-07-07T18:44:07.104047Z",
     "start_time": "2023-07-07T18:44:06.697089Z"
    }
   }
  },
  {
   "cell_type": "code",
   "execution_count": 4,
   "outputs": [
    {
     "data": {
      "text/plain": "[array([1, 2]),\n array([1, 2]),\n array([1, 2]),\n array([2, 1]),\n array([2, 1]),\n array([2, 5, 4, 6, 1, 3, 0]),\n array([3, 2, 1, 4, 5, 0]),\n array([2, 1]),\n array([2, 1]),\n array([2, 1]),\n array([2, 1]),\n array([2, 1]),\n array([2, 1]),\n array([2, 1]),\n array([2, 1]),\n array([2, 1]),\n array([1, 2]),\n array([1, 2]),\n array([2, 1]),\n array([2, 3, 1, 4, 0]),\n array([1, 2]),\n array([2, 1]),\n array([2, 1]),\n array([2, 1]),\n array([2, 1]),\n array([2, 1]),\n array([2, 1]),\n array([2, 1]),\n array([2, 1]),\n array([2, 1]),\n array([2, 1]),\n array([2, 1]),\n array([2, 1]),\n array([2, 1]),\n array([1, 2]),\n array([1, 2]),\n array([2, 1]),\n array([1, 2]),\n array([2, 1]),\n array([2, 1]),\n array([2, 1]),\n array([2, 1]),\n array([2, 1]),\n array([2, 1]),\n array([3, 1, 2, 4, 5, 0]),\n array([2, 4, 1, 3, 0]),\n array([2, 4, 1, 3, 0]),\n array([2, 4, 1, 5, 3, 0]),\n array([3, 4, 5, 2, 1, 0]),\n array([4, 2, 3, 1, 5, 0]),\n array([2, 1]),\n array([2, 1]),\n array([1, 2]),\n array([1, 2]),\n array([2, 1]),\n array([2, 1]),\n array([2, 1]),\n array([2, 1]),\n array([1, 2, 0]),\n array([1, 2, 0]),\n array([2, 1, 0]),\n array([1, 2, 0]),\n array([2, 1, 0]),\n array([1, 2, 0]),\n array([2, 1, 0]),\n array([1, 2, 0]),\n array([1, 2, 0]),\n array([2, 1, 0]),\n array([1, 2, 0]),\n array([2, 1, 0]),\n array([2, 1, 0]),\n array([2, 1, 0]),\n array([1, 2, 0]),\n array([2, 1, 0]),\n array([2, 1, 0]),\n array([2, 1, 0]),\n array([2, 1, 0]),\n array([2, 1, 0]),\n array([1, 2, 0]),\n array([1, 2, 0]),\n array([1, 2, 0]),\n array([1, 2, 0]),\n array([2, 1, 0]),\n array([1, 2, 0]),\n array([1, 2, 0]),\n array([2, 1, 0]),\n array([1, 2, 0]),\n array([1, 2, 0]),\n array([1, 2, 0]),\n array([1, 2, 0]),\n array([1, 6, 2, 4, 3, 8, 5, 7, 0]),\n array([4, 1, 2, 5, 8, 7, 6, 3, 0]),\n array([7, 6, 4, 5, 8, 1, 3, 2, 0]),\n array([3, 1, 2, 5, 4, 8, 6, 7, 0]),\n array([7, 5, 4, 8, 6, 2, 3, 1, 0]),\n array([7, 5, 6, 4, 8, 2, 1, 3, 0]),\n array([1, 2, 0]),\n array([1, 2, 0]),\n array([1, 2, 0]),\n array([1, 2, 0]),\n array([1, 2, 0]),\n array([1, 2, 0]),\n array([1, 2, 0]),\n array([1, 2, 0]),\n array([4, 5, 6, 1, 3, 2, 0])]"
     },
     "execution_count": 4,
     "metadata": {},
     "output_type": "execute_result"
    }
   ],
   "source": [
    "df = df[[column for column in df.columns if column.startswith('CC22_3')]]\n",
    "df = df.select_dtypes(exclude=['object'])\n",
    "df = df[[column for column in df.columns if df[column].isna().sum() <= 100]]\n",
    "df = df.fillna(0)\n",
    "df = df.astype(int)\n",
    "[df[column].unique() for column in df.columns]"
   ],
   "metadata": {
    "collapsed": false,
    "ExecuteTime": {
     "end_time": "2023-07-07T18:44:07.558353Z",
     "start_time": "2023-07-07T18:44:07.150994Z"
    }
   }
  },
  {
   "cell_type": "code",
   "execution_count": 5,
   "outputs": [
    {
     "name": "stdout",
     "output_type": "stream",
     "text": [
      "['CC22_302', 'CC22_303', 'CC22_307', 'CC22_309e', 'CC22_310a', 'CC22_310b', 'CC22_320a', 'CC22_320b', 'CC22_320c', 'CC22_340a', 'CC22_340c', 'CC22_340d', 'CC22_340e', 'CC22_340f', 'CC22_340g', 'CC22_361']\n"
     ]
    }
   ],
   "source": [
    "print([column for column in df.columns if len(df[column].unique()) > 3])"
   ],
   "metadata": {
    "collapsed": false,
    "ExecuteTime": {
     "end_time": "2023-07-07T18:44:07.665795Z",
     "start_time": "2023-07-07T18:44:07.435968Z"
    }
   }
  },
  {
   "cell_type": "code",
   "execution_count": 6,
   "outputs": [],
   "source": [
    "exclude_non_binary = df[[column for column in df.columns if len(df[column].unique()) <= 3]]"
   ],
   "metadata": {
    "collapsed": false,
    "ExecuteTime": {
     "end_time": "2023-07-07T18:44:07.666548Z",
     "start_time": "2023-07-07T18:44:07.463672Z"
    }
   }
  },
  {
   "cell_type": "code",
   "execution_count": 7,
   "outputs": [
    {
     "data": {
      "text/plain": "['CC22_333d', 'CC22_330c', 'CC22_333a', 'CC22_309c_9', 'CC22_300_1']"
     },
     "execution_count": 7,
     "metadata": {},
     "output_type": "execute_result"
    }
   ],
   "source": [
    "# prediction_set = greedy_prediction_entropy(5, exclude_non_binary)\n",
    "prediction_set = ['CC22_333d', 'CC22_330c', 'CC22_333a', 'CC22_309c_9', 'CC22_300_1']\n",
    "prediction_set"
   ],
   "metadata": {
    "collapsed": false,
    "ExecuteTime": {
     "end_time": "2023-07-07T18:44:07.667604Z",
     "start_time": "2023-07-07T18:44:07.558735Z"
    }
   }
  },
  {
   "cell_type": "code",
   "execution_count": 8,
   "outputs": [
    {
     "name": "stdout",
     "output_type": "stream",
     "text": [
      "0.6662000229131583\n",
      "0.6329544279228863\n",
      "0.6062983852101703\n",
      "0.600840285316729\n",
      "0.5896823941360397\n"
     ]
    }
   ],
   "source": [
    "for i in range(5):\n",
    "    print(prediction_entropy(prediction_set[:i + 1], exclude_non_binary))"
   ],
   "metadata": {
    "collapsed": false,
    "ExecuteTime": {
     "end_time": "2023-07-07T18:44:11.101536Z",
     "start_time": "2023-07-07T18:44:07.559882Z"
    }
   }
  },
  {
   "cell_type": "code",
   "execution_count": 9,
   "outputs": [
    {
     "data": {
      "text/plain": "0.6085260684707803"
     },
     "execution_count": 9,
     "metadata": {},
     "output_type": "execute_result"
    }
   ],
   "source": [
    "# opt_prediction_set = optimal_prediction_entropy(2, exclude_non_binary)\n",
    "opt_prediction_set = ('CC22_331d', 'CC22_350c')\n",
    "prediction_entropy(opt_prediction_set, exclude_non_binary)"
   ],
   "metadata": {
    "collapsed": false,
    "ExecuteTime": {
     "end_time": "2023-07-07T18:44:11.455362Z",
     "start_time": "2023-07-07T18:44:11.100638Z"
    }
   }
  },
  {
   "cell_type": "code",
   "execution_count": 10,
   "outputs": [
    {
     "data": {
      "text/plain": "0.7028986051885537"
     },
     "execution_count": 10,
     "metadata": {},
     "output_type": "execute_result"
    }
   ],
   "source": [
    "overall_prediction_entropy(exclude_non_binary)"
   ],
   "metadata": {
    "collapsed": false,
    "ExecuteTime": {
     "end_time": "2023-07-07T18:44:11.544986Z",
     "start_time": "2023-07-07T18:44:11.469243Z"
    }
   }
  },
  {
   "cell_type": "code",
   "execution_count": 11,
   "outputs": [],
   "source": [
    "df = df.drop(columns=['CC22_361'])"
   ],
   "metadata": {
    "collapsed": false,
    "ExecuteTime": {
     "end_time": "2023-07-07T18:44:11.592876Z",
     "start_time": "2023-07-07T18:44:11.565274Z"
    }
   }
  },
  {
   "cell_type": "code",
   "execution_count": 12,
   "outputs": [],
   "source": [
    "def numerical_to_binary(value, max_val=8):\n",
    "    if value == 0:\n",
    "        return 0\n",
    "    if max_val % 2 == 0:\n",
    "        if value == max_val:\n",
    "            return 0\n",
    "        thresh = max_val / 2\n",
    "    else:\n",
    "        thresh = (max_val + 1) / 2\n",
    "    if value >= thresh:\n",
    "        return 2\n",
    "    else:\n",
    "        return 1\n",
    "\n",
    "for column in df.columns:\n",
    "    unique = df[column].unique()\n",
    "    if len(unique) > 3:\n",
    "        df[column] = df[column].apply(numerical_to_binary, max_val = max(unique))\n",
    "\n"
   ],
   "metadata": {
    "collapsed": false,
    "ExecuteTime": {
     "end_time": "2023-07-07T18:44:12.331316Z",
     "start_time": "2023-07-07T18:44:11.580996Z"
    }
   }
  },
  {
   "cell_type": "code",
   "execution_count": 22,
   "outputs": [],
   "source": [
    "df.to_csv('data/cleaned_survey.csv', index=False)\n"
   ],
   "metadata": {
    "collapsed": false,
    "ExecuteTime": {
     "end_time": "2023-07-06T21:17:17.004478Z",
     "start_time": "2023-07-06T21:17:16.160584Z"
    }
   }
  },
  {
   "cell_type": "code",
   "execution_count": 29,
   "outputs": [],
   "source": [
    "train, test = train_test_split(df, test_size=0.2)\n",
    "train.to_csv('data/train.csv', index=False)\n",
    "test.to_csv('data/test.csv', index=False)"
   ],
   "metadata": {
    "collapsed": false,
    "ExecuteTime": {
     "end_time": "2023-07-06T21:23:45.250389Z",
     "start_time": "2023-07-06T21:23:43.428024Z"
    }
   }
  },
  {
   "cell_type": "code",
   "execution_count": 12,
   "outputs": [],
   "source": [
    "# greedy_all = greedy_prediction_entropy(5, df)\n",
    "greedy_all = ['CC22_350c', 'CC22_340e', 'CC22_331d', 'CC22_310b', 'CC22_321_4']"
   ],
   "metadata": {
    "collapsed": false,
    "ExecuteTime": {
     "end_time": "2023-06-30T18:56:33.374613Z",
     "start_time": "2023-06-30T18:56:33.370762Z"
    }
   }
  },
  {
   "cell_type": "code",
   "execution_count": 13,
   "outputs": [
    {
     "data": {
      "text/plain": "0.405422012842573"
     },
     "execution_count": 13,
     "metadata": {},
     "output_type": "execute_result"
    }
   ],
   "source": [
    "prediction_entropy(greedy_all, df)"
   ],
   "metadata": {
    "collapsed": false,
    "ExecuteTime": {
     "end_time": "2023-06-30T18:56:36.409179Z",
     "start_time": "2023-06-30T18:56:33.376006Z"
    }
   }
  },
  {
   "cell_type": "code",
   "execution_count": 14,
   "outputs": [
    {
     "data": {
      "text/plain": "0.5216436074885905"
     },
     "execution_count": 14,
     "metadata": {},
     "output_type": "execute_result"
    }
   ],
   "source": [
    "overall_prediction_entropy(df)"
   ],
   "metadata": {
    "collapsed": false,
    "ExecuteTime": {
     "end_time": "2023-06-30T18:56:36.491341Z",
     "start_time": "2023-06-30T18:56:36.409894Z"
    }
   }
  },
  {
   "cell_type": "code",
   "execution_count": 14,
   "outputs": [],
   "source": [],
   "metadata": {
    "collapsed": false,
    "ExecuteTime": {
     "end_time": "2023-06-30T18:56:36.494778Z",
     "start_time": "2023-06-30T18:56:36.491897Z"
    }
   }
  }
 ],
 "metadata": {
  "kernelspec": {
   "display_name": "Python 3",
   "language": "python",
   "name": "python3"
  },
  "language_info": {
   "codemirror_mode": {
    "name": "ipython",
    "version": 2
   },
   "file_extension": ".py",
   "mimetype": "text/x-python",
   "name": "python",
   "nbconvert_exporter": "python",
   "pygments_lexer": "ipython2",
   "version": "2.7.6"
  }
 },
 "nbformat": 4,
 "nbformat_minor": 0
}
