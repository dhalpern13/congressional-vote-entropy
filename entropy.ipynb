{
 "cells": [
  {
   "cell_type": "code",
   "execution_count": 11,
   "metadata": {
    "collapsed": true
   },
   "outputs": [],
   "source": [
    "from itertools import combinations\n",
    "from math import comb\n",
    "\n",
    "import numpy as np\n",
    "import pandas as pd\n",
    "from tqdm import tqdm"
   ]
  },
  {
   "cell_type": "code",
   "execution_count": 12,
   "outputs": [],
   "source": [
    "votes = pd.read_csv('H117_votes.csv', dtype={'icpsr': 'int'})\n",
    "bill_data = pd.read_csv('H117_rollcalls.csv')\n",
    "members = pd.read_csv('H117_members.csv', dtype={'icpsr': 'int'})"
   ],
   "metadata": {
    "collapsed": false,
    "pycharm": {
     "name": "#%%\n"
    }
   }
  },
  {
   "cell_type": "code",
   "execution_count": 13,
   "outputs": [
    {
     "data": {
      "text/plain": "     rollnumber        date  yea_count  nay_count  \\\n0             1  2021-01-03        216        211   \n1             2  2021-01-03        371          2   \n2             3  2021-01-04        214        204   \n3             4  2021-01-04        214        196   \n4             5  2021-01-04        217        204   \n..          ...         ...        ...        ...   \n991         992  2022-12-22        337         79   \n992         993  2022-12-22        380         35   \n993         994  2022-12-23        215        206   \n994         995  2022-12-23        193        227   \n995         996  2022-12-23        225        201   \n\n                                             vote_desc  \\\n0                                                  NaN   \n1    Authorizing and directing the Speaker to admin...   \n2    Adopting the Rules of the House of Representat...   \n3    Adopting the Rules of the House of Representat...   \n4    Adopting the Rules of the House of Representat...   \n..                                                 ...   \n991  Durbin Feeling Native American Languages Act o...   \n992               Student Veteran Emergency Relief Act   \n993  Providing for consideration of the Senate amen...   \n994                                                NaN   \n995  To amend section 1115 of title 31, United Stat...   \n\n                                         vote_question  \n0                              Election of the Speaker  \n1                        On Agreeing to the Resolution  \n2    On Motion to Table the Motion to Postpone to a...  \n3                                Table Motion to Refer  \n4                    On Ordering the Previous Question  \n..                                                 ...  \n991            On Motion to Suspend the Rules and Pass  \n992  On Motion to Suspend the Rules and Concur in t...  \n993                      On Agreeing to the Resolution  \n994                               On Motion to Adjourn  \n995  On Motion to Concur in the Senate Adt to the H...  \n\n[996 rows x 6 columns]",
      "text/html": "<div>\n<style scoped>\n    .dataframe tbody tr th:only-of-type {\n        vertical-align: middle;\n    }\n\n    .dataframe tbody tr th {\n        vertical-align: top;\n    }\n\n    .dataframe thead th {\n        text-align: right;\n    }\n</style>\n<table border=\"1\" class=\"dataframe\">\n  <thead>\n    <tr style=\"text-align: right;\">\n      <th></th>\n      <th>rollnumber</th>\n      <th>date</th>\n      <th>yea_count</th>\n      <th>nay_count</th>\n      <th>vote_desc</th>\n      <th>vote_question</th>\n    </tr>\n  </thead>\n  <tbody>\n    <tr>\n      <th>0</th>\n      <td>1</td>\n      <td>2021-01-03</td>\n      <td>216</td>\n      <td>211</td>\n      <td>NaN</td>\n      <td>Election of the Speaker</td>\n    </tr>\n    <tr>\n      <th>1</th>\n      <td>2</td>\n      <td>2021-01-03</td>\n      <td>371</td>\n      <td>2</td>\n      <td>Authorizing and directing the Speaker to admin...</td>\n      <td>On Agreeing to the Resolution</td>\n    </tr>\n    <tr>\n      <th>2</th>\n      <td>3</td>\n      <td>2021-01-04</td>\n      <td>214</td>\n      <td>204</td>\n      <td>Adopting the Rules of the House of Representat...</td>\n      <td>On Motion to Table the Motion to Postpone to a...</td>\n    </tr>\n    <tr>\n      <th>3</th>\n      <td>4</td>\n      <td>2021-01-04</td>\n      <td>214</td>\n      <td>196</td>\n      <td>Adopting the Rules of the House of Representat...</td>\n      <td>Table Motion to Refer</td>\n    </tr>\n    <tr>\n      <th>4</th>\n      <td>5</td>\n      <td>2021-01-04</td>\n      <td>217</td>\n      <td>204</td>\n      <td>Adopting the Rules of the House of Representat...</td>\n      <td>On Ordering the Previous Question</td>\n    </tr>\n    <tr>\n      <th>...</th>\n      <td>...</td>\n      <td>...</td>\n      <td>...</td>\n      <td>...</td>\n      <td>...</td>\n      <td>...</td>\n    </tr>\n    <tr>\n      <th>991</th>\n      <td>992</td>\n      <td>2022-12-22</td>\n      <td>337</td>\n      <td>79</td>\n      <td>Durbin Feeling Native American Languages Act o...</td>\n      <td>On Motion to Suspend the Rules and Pass</td>\n    </tr>\n    <tr>\n      <th>992</th>\n      <td>993</td>\n      <td>2022-12-22</td>\n      <td>380</td>\n      <td>35</td>\n      <td>Student Veteran Emergency Relief Act</td>\n      <td>On Motion to Suspend the Rules and Concur in t...</td>\n    </tr>\n    <tr>\n      <th>993</th>\n      <td>994</td>\n      <td>2022-12-23</td>\n      <td>215</td>\n      <td>206</td>\n      <td>Providing for consideration of the Senate amen...</td>\n      <td>On Agreeing to the Resolution</td>\n    </tr>\n    <tr>\n      <th>994</th>\n      <td>995</td>\n      <td>2022-12-23</td>\n      <td>193</td>\n      <td>227</td>\n      <td>NaN</td>\n      <td>On Motion to Adjourn</td>\n    </tr>\n    <tr>\n      <th>995</th>\n      <td>996</td>\n      <td>2022-12-23</td>\n      <td>225</td>\n      <td>201</td>\n      <td>To amend section 1115 of title 31, United Stat...</td>\n      <td>On Motion to Concur in the Senate Adt to the H...</td>\n    </tr>\n  </tbody>\n</table>\n<p>996 rows × 6 columns</p>\n</div>"
     },
     "execution_count": 13,
     "metadata": {},
     "output_type": "execute_result"
    }
   ],
   "source": [
    "bill_data = bill_data[['rollnumber', 'date', 'yea_count', 'nay_count', 'vote_desc', 'vote_question']]\n",
    "bill_data"
   ],
   "metadata": {
    "collapsed": false,
    "pycharm": {
     "name": "#%%\n"
    }
   }
  },
  {
   "cell_type": "code",
   "execution_count": 14,
   "outputs": [
    {
     "data": {
      "text/plain": "        rollnumber  icpsr   vote\n0                1  14066  False\n1                1  14854  False\n2                1  14863  False\n3                1  14873   True\n4                1  15019   True\n...            ...    ...    ...\n428966         996  31103   True\n428967         996  39301   True\n428968         996  39305   True\n428969         996  39307   True\n428970         996  91980  False\n\n[428971 rows x 3 columns]",
      "text/html": "<div>\n<style scoped>\n    .dataframe tbody tr th:only-of-type {\n        vertical-align: middle;\n    }\n\n    .dataframe tbody tr th {\n        vertical-align: top;\n    }\n\n    .dataframe thead th {\n        text-align: right;\n    }\n</style>\n<table border=\"1\" class=\"dataframe\">\n  <thead>\n    <tr style=\"text-align: right;\">\n      <th></th>\n      <th>rollnumber</th>\n      <th>icpsr</th>\n      <th>vote</th>\n    </tr>\n  </thead>\n  <tbody>\n    <tr>\n      <th>0</th>\n      <td>1</td>\n      <td>14066</td>\n      <td>False</td>\n    </tr>\n    <tr>\n      <th>1</th>\n      <td>1</td>\n      <td>14854</td>\n      <td>False</td>\n    </tr>\n    <tr>\n      <th>2</th>\n      <td>1</td>\n      <td>14863</td>\n      <td>False</td>\n    </tr>\n    <tr>\n      <th>3</th>\n      <td>1</td>\n      <td>14873</td>\n      <td>True</td>\n    </tr>\n    <tr>\n      <th>4</th>\n      <td>1</td>\n      <td>15019</td>\n      <td>True</td>\n    </tr>\n    <tr>\n      <th>...</th>\n      <td>...</td>\n      <td>...</td>\n      <td>...</td>\n    </tr>\n    <tr>\n      <th>428966</th>\n      <td>996</td>\n      <td>31103</td>\n      <td>True</td>\n    </tr>\n    <tr>\n      <th>428967</th>\n      <td>996</td>\n      <td>39301</td>\n      <td>True</td>\n    </tr>\n    <tr>\n      <th>428968</th>\n      <td>996</td>\n      <td>39305</td>\n      <td>True</td>\n    </tr>\n    <tr>\n      <th>428969</th>\n      <td>996</td>\n      <td>39307</td>\n      <td>True</td>\n    </tr>\n    <tr>\n      <th>428970</th>\n      <td>996</td>\n      <td>91980</td>\n      <td>False</td>\n    </tr>\n  </tbody>\n</table>\n<p>428971 rows × 3 columns</p>\n</div>"
     },
     "execution_count": 14,
     "metadata": {},
     "output_type": "execute_result"
    }
   ],
   "source": [
    "is_yea = {1, 2, 3}\n",
    "votes['vote'] = votes.cast_code.isin(is_yea)\n",
    "votes = votes[['rollnumber', 'icpsr', 'vote']]\n",
    "votes"
   ],
   "metadata": {
    "collapsed": false,
    "pycharm": {
     "name": "#%%\n"
    }
   }
  },
  {
   "cell_type": "code",
   "execution_count": 15,
   "outputs": [
    {
     "data": {
      "text/plain": "rollnumber  1    2    3    4    5    6    7    8    9    10   ...  987  988  \\\nicpsr                                                         ...             \n14066         0    1    0    0    0    1    0    1    0    0  ...    0    0   \n14854         0    1    0    0    0    1    0    1    1    1  ...    1    1   \n14863         0    1    0    0    0    1    0    1    0    0  ...    1    1   \n14873         1    1    1    1    1    0    1    1    0    0  ...    1    1   \n15019         1    1    1    1    1    0    1    1    0    0  ...    1    1   \n...         ...  ...  ...  ...  ...  ...  ...  ...  ...  ...  ...  ...  ...   \n39305         1    1    1    1    1    0    1    1    0    0  ...    1    1   \n39307         1    0    1    1    1    0    1    1    0    0  ...    1    1   \n91980         0    1    0    0    0    1    0    1    1    1  ...    0    0   \n99912         0    0    0    0    0    0    0    0    1    1  ...    0    0   \n99913         0    0    0    0    0    0    0    0    0    0  ...    0    0   \n\nrollnumber  989  990  991  992  993  994  995  996  \nicpsr                                               \n14066         0    0    0    0    0    0    0    0  \n14854         1    1    1    1    1    0    1    0  \n14863         1    1    1    1    1    0    1    0  \n14873         1    1    1    1    1    1    0    1  \n15019         1    1    1    1    1    1    0    1  \n...         ...  ...  ...  ...  ...  ...  ...  ...  \n39305         1    1    1    1    1    1    0    1  \n39307         1    1    1    1    1    1    0    1  \n91980         0    0    0    0    0    0    1    0  \n99912         0    0    0    0    0    0    0    0  \n99913         0    0    0    0    0    0    0    0  \n\n[457 rows x 996 columns]",
      "text/html": "<div>\n<style scoped>\n    .dataframe tbody tr th:only-of-type {\n        vertical-align: middle;\n    }\n\n    .dataframe tbody tr th {\n        vertical-align: top;\n    }\n\n    .dataframe thead th {\n        text-align: right;\n    }\n</style>\n<table border=\"1\" class=\"dataframe\">\n  <thead>\n    <tr style=\"text-align: right;\">\n      <th>rollnumber</th>\n      <th>1</th>\n      <th>2</th>\n      <th>3</th>\n      <th>4</th>\n      <th>5</th>\n      <th>6</th>\n      <th>7</th>\n      <th>8</th>\n      <th>9</th>\n      <th>10</th>\n      <th>...</th>\n      <th>987</th>\n      <th>988</th>\n      <th>989</th>\n      <th>990</th>\n      <th>991</th>\n      <th>992</th>\n      <th>993</th>\n      <th>994</th>\n      <th>995</th>\n      <th>996</th>\n    </tr>\n    <tr>\n      <th>icpsr</th>\n      <th></th>\n      <th></th>\n      <th></th>\n      <th></th>\n      <th></th>\n      <th></th>\n      <th></th>\n      <th></th>\n      <th></th>\n      <th></th>\n      <th></th>\n      <th></th>\n      <th></th>\n      <th></th>\n      <th></th>\n      <th></th>\n      <th></th>\n      <th></th>\n      <th></th>\n      <th></th>\n      <th></th>\n    </tr>\n  </thead>\n  <tbody>\n    <tr>\n      <th>14066</th>\n      <td>0</td>\n      <td>1</td>\n      <td>0</td>\n      <td>0</td>\n      <td>0</td>\n      <td>1</td>\n      <td>0</td>\n      <td>1</td>\n      <td>0</td>\n      <td>0</td>\n      <td>...</td>\n      <td>0</td>\n      <td>0</td>\n      <td>0</td>\n      <td>0</td>\n      <td>0</td>\n      <td>0</td>\n      <td>0</td>\n      <td>0</td>\n      <td>0</td>\n      <td>0</td>\n    </tr>\n    <tr>\n      <th>14854</th>\n      <td>0</td>\n      <td>1</td>\n      <td>0</td>\n      <td>0</td>\n      <td>0</td>\n      <td>1</td>\n      <td>0</td>\n      <td>1</td>\n      <td>1</td>\n      <td>1</td>\n      <td>...</td>\n      <td>1</td>\n      <td>1</td>\n      <td>1</td>\n      <td>1</td>\n      <td>1</td>\n      <td>1</td>\n      <td>1</td>\n      <td>0</td>\n      <td>1</td>\n      <td>0</td>\n    </tr>\n    <tr>\n      <th>14863</th>\n      <td>0</td>\n      <td>1</td>\n      <td>0</td>\n      <td>0</td>\n      <td>0</td>\n      <td>1</td>\n      <td>0</td>\n      <td>1</td>\n      <td>0</td>\n      <td>0</td>\n      <td>...</td>\n      <td>1</td>\n      <td>1</td>\n      <td>1</td>\n      <td>1</td>\n      <td>1</td>\n      <td>1</td>\n      <td>1</td>\n      <td>0</td>\n      <td>1</td>\n      <td>0</td>\n    </tr>\n    <tr>\n      <th>14873</th>\n      <td>1</td>\n      <td>1</td>\n      <td>1</td>\n      <td>1</td>\n      <td>1</td>\n      <td>0</td>\n      <td>1</td>\n      <td>1</td>\n      <td>0</td>\n      <td>0</td>\n      <td>...</td>\n      <td>1</td>\n      <td>1</td>\n      <td>1</td>\n      <td>1</td>\n      <td>1</td>\n      <td>1</td>\n      <td>1</td>\n      <td>1</td>\n      <td>0</td>\n      <td>1</td>\n    </tr>\n    <tr>\n      <th>15019</th>\n      <td>1</td>\n      <td>1</td>\n      <td>1</td>\n      <td>1</td>\n      <td>1</td>\n      <td>0</td>\n      <td>1</td>\n      <td>1</td>\n      <td>0</td>\n      <td>0</td>\n      <td>...</td>\n      <td>1</td>\n      <td>1</td>\n      <td>1</td>\n      <td>1</td>\n      <td>1</td>\n      <td>1</td>\n      <td>1</td>\n      <td>1</td>\n      <td>0</td>\n      <td>1</td>\n    </tr>\n    <tr>\n      <th>...</th>\n      <td>...</td>\n      <td>...</td>\n      <td>...</td>\n      <td>...</td>\n      <td>...</td>\n      <td>...</td>\n      <td>...</td>\n      <td>...</td>\n      <td>...</td>\n      <td>...</td>\n      <td>...</td>\n      <td>...</td>\n      <td>...</td>\n      <td>...</td>\n      <td>...</td>\n      <td>...</td>\n      <td>...</td>\n      <td>...</td>\n      <td>...</td>\n      <td>...</td>\n      <td>...</td>\n    </tr>\n    <tr>\n      <th>39305</th>\n      <td>1</td>\n      <td>1</td>\n      <td>1</td>\n      <td>1</td>\n      <td>1</td>\n      <td>0</td>\n      <td>1</td>\n      <td>1</td>\n      <td>0</td>\n      <td>0</td>\n      <td>...</td>\n      <td>1</td>\n      <td>1</td>\n      <td>1</td>\n      <td>1</td>\n      <td>1</td>\n      <td>1</td>\n      <td>1</td>\n      <td>1</td>\n      <td>0</td>\n      <td>1</td>\n    </tr>\n    <tr>\n      <th>39307</th>\n      <td>1</td>\n      <td>0</td>\n      <td>1</td>\n      <td>1</td>\n      <td>1</td>\n      <td>0</td>\n      <td>1</td>\n      <td>1</td>\n      <td>0</td>\n      <td>0</td>\n      <td>...</td>\n      <td>1</td>\n      <td>1</td>\n      <td>1</td>\n      <td>1</td>\n      <td>1</td>\n      <td>1</td>\n      <td>1</td>\n      <td>1</td>\n      <td>0</td>\n      <td>1</td>\n    </tr>\n    <tr>\n      <th>91980</th>\n      <td>0</td>\n      <td>1</td>\n      <td>0</td>\n      <td>0</td>\n      <td>0</td>\n      <td>1</td>\n      <td>0</td>\n      <td>1</td>\n      <td>1</td>\n      <td>1</td>\n      <td>...</td>\n      <td>0</td>\n      <td>0</td>\n      <td>0</td>\n      <td>0</td>\n      <td>0</td>\n      <td>0</td>\n      <td>0</td>\n      <td>0</td>\n      <td>1</td>\n      <td>0</td>\n    </tr>\n    <tr>\n      <th>99912</th>\n      <td>0</td>\n      <td>0</td>\n      <td>0</td>\n      <td>0</td>\n      <td>0</td>\n      <td>0</td>\n      <td>0</td>\n      <td>0</td>\n      <td>1</td>\n      <td>1</td>\n      <td>...</td>\n      <td>0</td>\n      <td>0</td>\n      <td>0</td>\n      <td>0</td>\n      <td>0</td>\n      <td>0</td>\n      <td>0</td>\n      <td>0</td>\n      <td>0</td>\n      <td>0</td>\n    </tr>\n    <tr>\n      <th>99913</th>\n      <td>0</td>\n      <td>0</td>\n      <td>0</td>\n      <td>0</td>\n      <td>0</td>\n      <td>0</td>\n      <td>0</td>\n      <td>0</td>\n      <td>0</td>\n      <td>0</td>\n      <td>...</td>\n      <td>0</td>\n      <td>0</td>\n      <td>0</td>\n      <td>0</td>\n      <td>0</td>\n      <td>0</td>\n      <td>0</td>\n      <td>0</td>\n      <td>0</td>\n      <td>0</td>\n    </tr>\n  </tbody>\n</table>\n<p>457 rows × 996 columns</p>\n</div>"
     },
     "execution_count": 15,
     "metadata": {},
     "output_type": "execute_result"
    }
   ],
   "source": [
    "member_vote_table = pd.pivot_table(votes, values='vote', columns='rollnumber', index='icpsr', fill_value=0)\n",
    "member_vote_table"
   ],
   "metadata": {
    "collapsed": false,
    "pycharm": {
     "name": "#%%\n"
    }
   }
  },
  {
   "cell_type": "code",
   "execution_count": 16,
   "outputs": [
    {
     "data": {
      "text/plain": "     icpsr party                 name state   dim1   dim2\n2    20301   rep  ROGERS, Mike Dennis    AL  0.362  0.462\n3    21102   dem        SEWELL, Terri    AL -0.394  0.397\n4    21193   rep           BROOKS, Mo    AL  0.652 -0.417\n5    21500   rep   PALMER, Gary James    AL  0.677  0.095\n6    22108   rep       CARL, Jerry L.    AL  0.507  0.535\n..     ...   ...                  ...   ...    ...    ...\n452  21970   rep         STEIL, Bryan    WI  0.413  0.045\n453  21989   rep   TIFFANY, Thomas P.    WI  0.643 -0.206\n454  22115   rep    FITZGERALD, Scott    WI  0.612  0.233\n455  29769   dem            KIND, Ron    WI -0.260 -0.080\n456  21710   rep          CHENEY, Liz    WY  0.405  0.820\n\n[455 rows x 6 columns]",
      "text/html": "<div>\n<style scoped>\n    .dataframe tbody tr th:only-of-type {\n        vertical-align: middle;\n    }\n\n    .dataframe tbody tr th {\n        vertical-align: top;\n    }\n\n    .dataframe thead th {\n        text-align: right;\n    }\n</style>\n<table border=\"1\" class=\"dataframe\">\n  <thead>\n    <tr style=\"text-align: right;\">\n      <th></th>\n      <th>icpsr</th>\n      <th>party</th>\n      <th>name</th>\n      <th>state</th>\n      <th>dim1</th>\n      <th>dim2</th>\n    </tr>\n  </thead>\n  <tbody>\n    <tr>\n      <th>2</th>\n      <td>20301</td>\n      <td>rep</td>\n      <td>ROGERS, Mike Dennis</td>\n      <td>AL</td>\n      <td>0.362</td>\n      <td>0.462</td>\n    </tr>\n    <tr>\n      <th>3</th>\n      <td>21102</td>\n      <td>dem</td>\n      <td>SEWELL, Terri</td>\n      <td>AL</td>\n      <td>-0.394</td>\n      <td>0.397</td>\n    </tr>\n    <tr>\n      <th>4</th>\n      <td>21193</td>\n      <td>rep</td>\n      <td>BROOKS, Mo</td>\n      <td>AL</td>\n      <td>0.652</td>\n      <td>-0.417</td>\n    </tr>\n    <tr>\n      <th>5</th>\n      <td>21500</td>\n      <td>rep</td>\n      <td>PALMER, Gary James</td>\n      <td>AL</td>\n      <td>0.677</td>\n      <td>0.095</td>\n    </tr>\n    <tr>\n      <th>6</th>\n      <td>22108</td>\n      <td>rep</td>\n      <td>CARL, Jerry L.</td>\n      <td>AL</td>\n      <td>0.507</td>\n      <td>0.535</td>\n    </tr>\n    <tr>\n      <th>...</th>\n      <td>...</td>\n      <td>...</td>\n      <td>...</td>\n      <td>...</td>\n      <td>...</td>\n      <td>...</td>\n    </tr>\n    <tr>\n      <th>452</th>\n      <td>21970</td>\n      <td>rep</td>\n      <td>STEIL, Bryan</td>\n      <td>WI</td>\n      <td>0.413</td>\n      <td>0.045</td>\n    </tr>\n    <tr>\n      <th>453</th>\n      <td>21989</td>\n      <td>rep</td>\n      <td>TIFFANY, Thomas P.</td>\n      <td>WI</td>\n      <td>0.643</td>\n      <td>-0.206</td>\n    </tr>\n    <tr>\n      <th>454</th>\n      <td>22115</td>\n      <td>rep</td>\n      <td>FITZGERALD, Scott</td>\n      <td>WI</td>\n      <td>0.612</td>\n      <td>0.233</td>\n    </tr>\n    <tr>\n      <th>455</th>\n      <td>29769</td>\n      <td>dem</td>\n      <td>KIND, Ron</td>\n      <td>WI</td>\n      <td>-0.260</td>\n      <td>-0.080</td>\n    </tr>\n    <tr>\n      <th>456</th>\n      <td>21710</td>\n      <td>rep</td>\n      <td>CHENEY, Liz</td>\n      <td>WY</td>\n      <td>0.405</td>\n      <td>0.820</td>\n    </tr>\n  </tbody>\n</table>\n<p>455 rows × 6 columns</p>\n</div>"
     },
     "execution_count": 16,
     "metadata": {},
     "output_type": "execute_result"
    }
   ],
   "source": [
    "members = members[members.chamber.isin(['House'])]\n",
    "party_dict = {100: 'dem', 200: 'rep'}\n",
    "members['party'] = members.party_code.map(party_dict)\n",
    "members = members[['icpsr', 'party', 'bioname', 'state_abbrev', 'nominate_dim1', 'nominate_dim2']]\n",
    "members = members.rename(columns={'state_abbrev': 'state', 'bioname': 'name', 'nominate_dim1': 'dim1', 'nominate_dim2': 'dim2'})\n",
    "members"
   ],
   "metadata": {
    "collapsed": false,
    "pycharm": {
     "name": "#%%\n"
    }
   }
  },
  {
   "cell_type": "code",
   "execution_count": 17,
   "outputs": [],
   "source": [
    "def entropy(bills):\n",
    "    restricted_votes = member_vote_table[list(bills)]\n",
    "    counts = restricted_votes.value_counts()\n",
    "    as_proportions = counts / counts.sum()\n",
    "    return (- np.log2(as_proportions) * as_proportions).sum()"
   ],
   "metadata": {
    "collapsed": false,
    "pycharm": {
     "name": "#%%\n"
    }
   }
  },
  {
   "cell_type": "code",
   "execution_count": 18,
   "outputs": [],
   "source": [
    "unique_bills = list(votes.rollnumber.unique())\n",
    "\n",
    "\n",
    "def optimal_entropy(k):\n",
    "    return max((combo for combo in tqdm(combinations(unique_bills, r=k), total=comb(len(unique_bills), k))),\n",
    "               key=entropy)\n",
    "\n",
    "\n",
    "def greedy_entropy(k):\n",
    "    cur = []\n",
    "    remaining_bills = set(unique_bills)\n",
    "    for _ in tqdm(range(k)):\n",
    "        best_addition = max((bill for bill in remaining_bills), key=lambda bill: entropy(cur + [bill]))\n",
    "        cur.append(best_addition)\n",
    "        remaining_bills.remove(best_addition)\n",
    "    return cur"
   ],
   "metadata": {
    "collapsed": false,
    "pycharm": {
     "name": "#%%\n"
    }
   }
  },
  {
   "cell_type": "code",
   "execution_count": 19,
   "outputs": [
    {
     "name": "stdout",
     "output_type": "stream",
     "text": [
      "1.9119853345466924\n",
      "[828, 864]\n"
     ]
    }
   ],
   "source": [
    "# best_two = optimal_entropy(2) # [828, 864]\n",
    "best_two = [828, 864]\n",
    "print(entropy(best_two))\n",
    "print(best_two)"
   ],
   "metadata": {
    "collapsed": false,
    "pycharm": {
     "name": "#%%\n"
    }
   }
  },
  {
   "cell_type": "code",
   "execution_count": 20,
   "outputs": [
    {
     "name": "stderr",
     "output_type": "stream",
     "text": [
      "100%|██████████| 5/5 [00:08<00:00,  1.71s/it]"
     ]
    },
    {
     "name": "stdout",
     "output_type": "stream",
     "text": [
      "[0.9999965460782858, 1.8832425425314643, 2.6946189479224607, 3.4714702951135163, 4.171985222752786]\n",
      "[40, 864, 632, 141, 786]\n"
     ]
    },
    {
     "name": "stderr",
     "output_type": "stream",
     "text": [
      "\n"
     ]
    }
   ],
   "source": [
    "greedy_five = greedy_entropy(5)\n",
    "print([entropy(greedy_five[:i]) for i in range(1, 6)])\n",
    "print(greedy_five)"
   ],
   "metadata": {
    "collapsed": false,
    "pycharm": {
     "name": "#%%\n"
    }
   }
  },
  {
   "cell_type": "code",
   "execution_count": 232,
   "outputs": [],
   "source": [
    "def bill_details(bills):\n",
    "    return bill_data[bill_data.rollnumber.isin(bills)]"
   ],
   "metadata": {
    "collapsed": false,
    "pycharm": {
     "name": "#%%\n"
    }
   }
  },
  {
   "cell_type": "code",
   "execution_count": 233,
   "outputs": [
    {
     "data": {
      "text/plain": "     rollnumber        date  yea_count  nay_count  \\\n827         828  2022-07-20        238        191   \n863         864  2022-07-29        303         89   \n\n                                             vote_desc  \\\n827                                                NaN   \n863  To include certain computer-related projects i...   \n\n                               vote_question  \n827             On Agreeing to the Amendment  \n863  On Motion to Suspend the Rules and Pass  ",
      "text/html": "<div>\n<style scoped>\n    .dataframe tbody tr th:only-of-type {\n        vertical-align: middle;\n    }\n\n    .dataframe tbody tr th {\n        vertical-align: top;\n    }\n\n    .dataframe thead th {\n        text-align: right;\n    }\n</style>\n<table border=\"1\" class=\"dataframe\">\n  <thead>\n    <tr style=\"text-align: right;\">\n      <th></th>\n      <th>rollnumber</th>\n      <th>date</th>\n      <th>yea_count</th>\n      <th>nay_count</th>\n      <th>vote_desc</th>\n      <th>vote_question</th>\n    </tr>\n  </thead>\n  <tbody>\n    <tr>\n      <th>827</th>\n      <td>828</td>\n      <td>2022-07-20</td>\n      <td>238</td>\n      <td>191</td>\n      <td>NaN</td>\n      <td>On Agreeing to the Amendment</td>\n    </tr>\n    <tr>\n      <th>863</th>\n      <td>864</td>\n      <td>2022-07-29</td>\n      <td>303</td>\n      <td>89</td>\n      <td>To include certain computer-related projects i...</td>\n      <td>On Motion to Suspend the Rules and Pass</td>\n    </tr>\n  </tbody>\n</table>\n</div>"
     },
     "execution_count": 233,
     "metadata": {},
     "output_type": "execute_result"
    }
   ],
   "source": [
    "bill_details(best_two)"
   ],
   "metadata": {
    "collapsed": false,
    "pycharm": {
     "name": "#%%\n"
    }
   }
  },
  {
   "cell_type": "code",
   "execution_count": 222,
   "outputs": [
    {
     "data": {
      "text/plain": "     rollnumber        date  yea_count  nay_count  \\\n39           40  2021-02-26        229        198   \n140         141  2021-05-13        323         93   \n631         632  2022-05-16        313        105   \n785         786  2022-07-14        244        179   \n863         864  2022-07-29        303         89   \n\n                                             vote_desc  \\\n39                                                 NaN   \n140     Behavioral Intervention Guidelines Act of 2021   \n631  DHS Roles and Responsibilities in Cyber Space Act   \n785                                                NaN   \n863  To include certain computer-related projects i...   \n\n                                         vote_question  \n39                        On Agreeing to the Amendment  \n140            On Motion to Suspend the Rules and Pass  \n631  On Motion to Suspend the Rules and Pass, as Am...  \n785                       On Agreeing to the Amendment  \n863            On Motion to Suspend the Rules and Pass  ",
      "text/html": "<div>\n<style scoped>\n    .dataframe tbody tr th:only-of-type {\n        vertical-align: middle;\n    }\n\n    .dataframe tbody tr th {\n        vertical-align: top;\n    }\n\n    .dataframe thead th {\n        text-align: right;\n    }\n</style>\n<table border=\"1\" class=\"dataframe\">\n  <thead>\n    <tr style=\"text-align: right;\">\n      <th></th>\n      <th>rollnumber</th>\n      <th>date</th>\n      <th>yea_count</th>\n      <th>nay_count</th>\n      <th>vote_desc</th>\n      <th>vote_question</th>\n    </tr>\n  </thead>\n  <tbody>\n    <tr>\n      <th>39</th>\n      <td>40</td>\n      <td>2021-02-26</td>\n      <td>229</td>\n      <td>198</td>\n      <td>NaN</td>\n      <td>On Agreeing to the Amendment</td>\n    </tr>\n    <tr>\n      <th>140</th>\n      <td>141</td>\n      <td>2021-05-13</td>\n      <td>323</td>\n      <td>93</td>\n      <td>Behavioral Intervention Guidelines Act of 2021</td>\n      <td>On Motion to Suspend the Rules and Pass</td>\n    </tr>\n    <tr>\n      <th>631</th>\n      <td>632</td>\n      <td>2022-05-16</td>\n      <td>313</td>\n      <td>105</td>\n      <td>DHS Roles and Responsibilities in Cyber Space Act</td>\n      <td>On Motion to Suspend the Rules and Pass, as Am...</td>\n    </tr>\n    <tr>\n      <th>785</th>\n      <td>786</td>\n      <td>2022-07-14</td>\n      <td>244</td>\n      <td>179</td>\n      <td>NaN</td>\n      <td>On Agreeing to the Amendment</td>\n    </tr>\n    <tr>\n      <th>863</th>\n      <td>864</td>\n      <td>2022-07-29</td>\n      <td>303</td>\n      <td>89</td>\n      <td>To include certain computer-related projects i...</td>\n      <td>On Motion to Suspend the Rules and Pass</td>\n    </tr>\n  </tbody>\n</table>\n</div>"
     },
     "execution_count": 222,
     "metadata": {},
     "output_type": "execute_result"
    }
   ],
   "source": [
    "bill_details(greedy_five)"
   ],
   "metadata": {
    "collapsed": false,
    "pycharm": {
     "name": "#%%\n"
    }
   }
  },
  {
   "cell_type": "code",
   "execution_count": 234,
   "outputs": [
    {
     "name": "stdout",
     "output_type": "stream",
     "text": [
      "(0, 0) 62\n",
      "   party                         bioname state   dim1   dim2\n",
      "9    rep             YOUNG, Donald Edwin    AK  0.283  0.022\n",
      "10   dem           PELTOLA, Mary Sattler    AK -0.126  0.298\n",
      "11   rep  RADEWAGEN, Aumua Amata Coleman    AS  0.403  0.076\n",
      "25   dem                   PELOSI, Nancy    CA -0.490 -0.203\n",
      "28   rep                    NUNES, Devin    CA  0.450  0.223\n",
      "33   rep                 MCCARTHY, Kevin    CA  0.457  0.221\n",
      "65   dem                    JACOBS, Sara    CA -0.332 -0.475\n",
      "76   dem                    LEE, Barbara    CA -0.679 -0.576\n",
      "81   rep            BUCK, Kenneth Robert    CO  0.712 -0.431\n",
      "85   dem                  DeGETTE, Diana    CO -0.431 -0.306\n",
      "(0, 1) 157\n",
      "   party              bioname state   dim1   dim2\n",
      "2    rep  ROGERS, Mike Dennis    AL  0.362  0.462\n",
      "4    rep           BROOKS, Mo    AL  0.652 -0.417\n",
      "5    rep   PALMER, Gary James    AL  0.677  0.095\n",
      "6    rep       CARL, Jerry L.    AL  0.507  0.535\n",
      "7    rep         MOORE, Barry    AL  0.640 -0.119\n",
      "8    rep     ADERHOLT, Robert    AL  0.384  0.570\n",
      "14   rep          GOSAR, Paul    AZ  0.698 -0.478\n",
      "15   rep    SCHWEIKERT, David    AZ  0.573 -0.288\n",
      "17   rep     BIGGS, Andrew S.    AZ  0.838 -0.546\n",
      "19   rep        LESKO, Debbie    AZ  0.615 -0.097\n",
      "(1, 0) 92\n",
      "   party                 bioname state   dim1   dim2\n",
      "12   dem       GRIJALVA, Raúl M.    AZ -0.598 -0.251\n",
      "32   dem         McNERNEY, Jerry    CA -0.263 -0.159\n",
      "38   dem             BASS, Karen    CA -0.584 -0.098\n",
      "40   dem          HUFFMAN, Jared    CA -0.433 -0.560\n",
      "46   dem              RUIZ, Raul    CA -0.248  0.055\n",
      "47   dem            TAKANO, Mark    CA -0.464 -0.276\n",
      "48   dem         LOWENTHAL, Alan    CA -0.449 -0.384\n",
      "51   dem  DESAULNIER, Mark James    CA -0.527 -0.369\n",
      "55   dem  BARRAGÁN, Nanette Diaz    CA -0.516 -0.038\n",
      "60   dem            GOMEZ, Jimmy    CA -0.572 -0.237\n",
      "(1, 1) 146\n",
      "   party                bioname state   dim1   dim2\n",
      "3    dem          SEWELL, Terri    AL -0.394  0.397\n",
      "13   dem       KIRKPATRICK, Ann    AZ -0.169 -0.010\n",
      "16   dem         GALLEGO, Ruben    AZ -0.446  0.051\n",
      "18   dem  O'HALLERAN, Thomas C.    AZ -0.198  0.180\n",
      "20   dem          STANTON, Greg    AZ -0.287  0.212\n",
      "26   dem           SCHIFF, Adam    CA -0.350 -0.133\n",
      "27   rep          ISSA, Darrell    CA  0.491 -0.030\n",
      "29   dem      SÁNCHEZ, Linda T.    CA -0.508 -0.139\n",
      "30   dem             COSTA, Jim    CA -0.193  0.457\n",
      "31   dem          MATSUI, Doris    CA -0.435 -0.156\n"
     ]
    }
   ],
   "source": [
    "def display_member_data(bills, num=10):\n",
    "    for response, ids in member_vote_table.groupby(bills).groups.items():\n",
    "        print(response, len(ids))\n",
    "        print(members[members.icpsr.isin(ids)].drop(['icpsr'], axis=1).head(num))\n",
    "display_member_data(best_two)"
   ],
   "metadata": {
    "collapsed": false,
    "pycharm": {
     "name": "#%%\n"
    }
   }
  },
  {
   "cell_type": "code",
   "execution_count": 235,
   "outputs": [
    {
     "name": "stdout",
     "output_type": "stream",
     "text": [
      "(0, 0, 0, 0, 0) 19\n",
      "    party                         bioname state   dim1   dim2\n",
      "10    dem           PELTOLA, Mary Sattler    AK -0.126  0.298\n",
      "11    rep  RADEWAGEN, Aumua Amata Coleman    AS  0.403  0.076\n",
      "25    dem                   PELOSI, Nancy    CA -0.490 -0.203\n",
      "81    rep            BUCK, Kenneth Robert    CO  0.712 -0.431\n",
      "92    dem          NORTON, Eleanor Holmes    DC -0.498 -0.047\n",
      "135   dem            SAN NICOLAS, Michael    GU -0.410 -0.520\n",
      "167   rep                YAKYM, Rudy, III    IN  0.456  0.636\n",
      "183   dem                RICHMOND, Cedric    LA -0.486  0.332\n",
      "230   rep                   FINSTAD, Brad    MN  0.555  0.223\n",
      "293   dem                   RYAN, Patrick    NY -0.265  0.268\n",
      "(0, 0, 0, 0, 1) 3\n",
      "    party                  bioname state   dim1   dim2\n",
      "132   rep  GREENE, Marjorie Taylor    GA  0.800 -0.600\n",
      "181   rep           MASSIE, Thomas    KY  0.680 -0.733\n",
      "317   rep              JORDAN, Jim    OH  0.717 -0.200\n",
      "(0, 0, 0, 1, 0) 13\n",
      "    party              bioname state   dim1   dim2\n",
      "9     rep  YOUNG, Donald Edwin    AK  0.283  0.022\n",
      "28    rep         NUNES, Devin    CA  0.450  0.223\n",
      "127   rep       ALLEN, Rick W.    GA  0.695  0.221\n",
      "131   rep     CLYDE, Andrew S.    GA  0.805 -0.130\n",
      "225   rep        HAGEDORN, Jim    MN  0.477  0.345\n",
      "239   rep          LONG, Billy    MO  0.544  0.244\n",
      "244   rep    FORTENBERRY, Jeff    NE  0.304 -0.061\n",
      "273   rep   REED, Thomas W. II    NY  0.269  0.120\n",
      "321   rep       STIVERS, Steve    OH  0.300  0.269\n",
      "364   rep         DUNCAN, Jeff    SC  0.700 -0.082\n",
      "(0, 0, 0, 1, 1) 1\n",
      "   party         bioname state   dim1   dim2\n",
      "97   rep  BILIRAKIS, Gus    FL  0.408  0.016\n",
      "(0, 0, 1, 0, 0) 2\n",
      "    party                      bioname state   dim1   dim2\n",
      "119   dem  CHERFILUS-MCCORMICK, Sheila    FL -0.642  0.358\n",
      "301   rep           FOXX, Virginia Ann    NC  0.626  0.154\n",
      "(0, 0, 1, 0, 1) 4\n",
      "    party                 bioname state   dim1   dim2\n",
      "269   dem  STANSBURY, Melanie Ann    NM -0.483 -0.181\n",
      "307   rep             BISHOP, Dan    NC  0.727 -0.305\n",
      "326   rep        DAVIDSON, Warren    OH  0.666 -0.346\n",
      "433   rep               GOOD, Bob    VA  0.800 -0.600\n",
      "(0, 0, 1, 1, 0) 7\n",
      "    party             bioname state   dim1   dim2\n",
      "33    rep     MCCARTHY, Kevin    CA  0.457  0.221\n",
      "142   rep     KINZINGER, Adam    IL  0.234  0.382\n",
      "238   rep     HARTZLER, Vicky    MO  0.478  0.229\n",
      "328   rep   GONZALEZ, Anthony    OH  0.240  0.315\n",
      "334   rep         HERN, Kevin    OK  0.687 -0.050\n",
      "384   rep  McCAUL, Michael T.    TX  0.422  0.122\n",
      "454   rep   FITZGERALD, Scott    WI  0.612  0.233\n",
      "(0, 0, 1, 1, 1) 3\n",
      "    party                     bioname state   dim1   dim2\n",
      "126   rep        LOUDERMILK, Barry D.    GA  0.684 -0.024\n",
      "128   rep  FERGUSON, Anderson Drew IV    GA  0.602  0.134\n",
      "182   rep              SCALISE, Steve    LA  0.556  0.167\n",
      "(0, 1, 0, 0, 0) 9\n",
      "    party          bioname state   dim1   dim2\n",
      "161   rep  BANKS, James E.    IN  0.645  0.014\n",
      "195   rep     HARRIS, Andy    MD  0.674 -0.397\n",
      "232   rep     KELLY, Trent    MS  0.633  0.279\n",
      "247   rep      FLOOD, Mike    NE  0.500  0.822\n",
      "330   rep      CAREY, Mike    OH  0.415  0.011\n",
      "386   rep     WEBER, Randy    TX  0.731  0.025\n",
      "394   rep   CLOUD, Michael    TX  0.683 -0.296\n",
      "411   rep    FLORES, Mayra    TX  0.336  0.623\n",
      "414   rep   SESSIONS, Pete    TX  0.591  0.135\n",
      "(0, 1, 0, 0, 1) 10\n",
      "    party                     bioname state   dim1   dim2\n",
      "4     rep                  BROOKS, Mo    AL  0.652 -0.417\n",
      "14    rep                 GOSAR, Paul    AZ  0.698 -0.478\n",
      "17    rep            BIGGS, Andrew S.    AZ  0.838 -0.546\n",
      "69    rep              CONWAY, Connie    CA  0.376  0.295\n",
      "84    rep             BOEBERT, Lauren    CO  0.753 -0.554\n",
      "153   rep             MILLER, Mary E.    IL  0.798 -0.243\n",
      "243   rep  ROSENDALE, Matthew M., Sr.    MT  0.754 -0.571\n",
      "344   rep                PERRY, Scott    PA  0.672 -0.442\n",
      "376   rep           BURCHETT, Timothy    TN  0.667 -0.338\n",
      "429   rep             CLINE, Benjamin    VA  0.718 -0.200\n",
      "(0, 1, 0, 1, 0) 38\n",
      "    party              bioname state   dim1   dim2\n",
      "5     rep   PALMER, Gary James    AL  0.677  0.095\n",
      "6     rep       CARL, Jerry L.    AL  0.507  0.535\n",
      "15    rep    SCHWEIKERT, David    AZ  0.573 -0.288\n",
      "21    rep       CRAWFORD, Rick    AR  0.444  0.430\n",
      "116   rep   FRANKLIN, C. Scott    FL  0.600  0.117\n",
      "123   rep        SCOTT, Austin    GA  0.560  0.226\n",
      "124   rep        CARTER, Buddy    GA  0.557  0.308\n",
      "138   rep     FULCHER, Russell    ID  0.641 -0.011\n",
      "139   rep  SIMPSON, Michael K.    ID  0.301  0.288\n",
      "159   rep       BUCSHON, Larry    IN  0.408  0.270\n",
      "(0, 1, 0, 1, 1) 9\n",
      "    party              bioname state   dim1   dim2\n",
      "19    rep        LESKO, Debbie    AZ  0.615 -0.097\n",
      "108   rep  MAST, Brian Jeffery    FL  0.465 -0.385\n",
      "114   rep         CAMMACK, Kat    FL  0.592 -0.202\n",
      "115   rep       DONALDS, Byron    FL  0.650 -0.162\n",
      "231   rep      PALAZZO, Steven    MS  0.535  0.450\n",
      "320   rep        JOHNSON, Bill    OH  0.424  0.269\n",
      "356   rep          MEUSER, Dan    PA  0.498  0.240\n",
      "382   rep       GOHMERT, Louie    TX  0.644 -0.406\n",
      "426   rep  GRIFFITH, H. Morgan    VA  0.532 -0.396\n",
      "(0, 1, 1, 0, 0) 5\n",
      "    party        bioname state   dim1   dim2\n",
      "188   dem   CARTER, Troy    LA -0.489  0.302\n",
      "287   rep  JACOBS, Chris    NY  0.306  0.049\n",
      "377   rep    GREEN, Mark    TN  0.674  0.017\n",
      "378   rep     ROSE, John    TN  0.674  0.088\n",
      "410   rep   ELLZEY, Jake    TX  0.518  0.356\n",
      "(0, 1, 1, 0, 1) 8\n",
      "    party               bioname state   dim1   dim2\n",
      "35    rep       McCLINTOCK, Tom    CA  0.688 -0.411\n",
      "64    rep          GARCIA, Mike    CA  0.373  0.083\n",
      "100   rep    WEBSTER, Daniel A.    FL  0.527 -0.099\n",
      "106   rep  GAETZ, Matthew L. II    FL  0.599 -0.635\n",
      "271   dem  CLARKE, Yvette Diane    NY -0.612 -0.229\n",
      "277   rep         ZELDIN, Lee M    NY  0.397 -0.129\n",
      "329   dem    BROWN, Shontel  M.    OH -0.521 -0.013\n",
      "413   dem   JACKSON LEE, Sheila    TX -0.460  0.124\n",
      "(0, 1, 1, 1, 0) 76\n",
      "   party                  bioname state   dim1   dim2\n",
      "2    rep      ROGERS, Mike Dennis    AL  0.362  0.462\n",
      "7    rep             MOORE, Barry    AL  0.640 -0.119\n",
      "8    rep         ADERHOLT, Robert    AL  0.384  0.570\n",
      "22   rep            WOMACK, Steve    AR  0.352  0.587\n",
      "23   rep             HILL, French    AR  0.436  0.276\n",
      "24   rep  WESTERMAN, Bruce Eugene    AR  0.545  0.369\n",
      "27   rep            ISSA, Darrell    CA  0.491 -0.030\n",
      "39   rep            LaMALFA, Doug    CA  0.530  0.061\n",
      "73   rep             CALVERT, Ken    CA  0.348  0.231\n",
      "79   rep            LAMBORN, Doug    CO  0.667  0.223\n",
      "(0, 1, 1, 1, 1) 21\n",
      "    party                 bioname state   dim1   dim2\n",
      "43    rep       VALADAO, David G.    CA  0.265  0.386\n",
      "66    rep              KIM, Young    CA  0.278  0.250\n",
      "68    rep         STEEL, Michelle    CA  0.351  0.345\n",
      "93    rep      DIAZ-BALART, Mario    FL  0.284  0.129\n",
      "96    rep     BUCHANAN, Vernon G.    FL  0.363 -0.107\n",
      "98    rep             POSEY, Bill    FL  0.526 -0.337\n",
      "110   rep  RUTHERFORD, John Henry    FL  0.436  0.026\n",
      "112   rep         STEUBE, William    FL  0.686 -0.274\n",
      "117   rep      GIMENEZ, Carlos A.    FL  0.309  0.146\n",
      "118   rep   SALAZAR, Maria Elvira    FL  0.266  0.099\n",
      "(1, 0, 0, 0, 0) 4\n",
      "    party                bioname state   dim1   dim2\n",
      "120   dem  HASTINGS, Alcee Lamar    FL -0.564  0.157\n",
      "266   dem         HAALAND, Debra    NM -0.332 -0.233\n",
      "319   dem       FUDGE, Marcia L.    OH -0.581  0.140\n",
      "390   dem          VELA, Filemon    TX -0.311  0.407\n",
      "(1, 0, 0, 0, 1) 5\n",
      "    party                 bioname state   dim1   dim2\n",
      "70    dem          WATERS, Maxine    CA -0.656 -0.075\n",
      "91    dem   BLUNT ROCHESTER, Lisa    DE -0.335 -0.143\n",
      "288   dem          BOWMAN, Jamaal    NY -0.321 -0.947\n",
      "351   dem       SCANLON, Mary Gay    PA -0.437 -0.065\n",
      "428   dem  MCEACHIN, Aston Donald    VA -0.381 -0.017\n",
      "(1, 0, 0, 1, 0) 1\n",
      "    party                  bioname state   dim1   dim2\n",
      "308   rep  MURPHY, Gregory Francis    NC  0.497  0.025\n",
      "(1, 0, 0, 1, 1) 12\n",
      "    party                                  bioname state   dim1   dim2\n",
      "32    dem                          McNERNEY, Jerry    CA -0.263 -0.159\n",
      "60    dem                             GOMEZ, Jimmy    CA -0.572 -0.237\n",
      "85    dem                           DeGETTE, Diana    CO -0.431 -0.306\n",
      "95    dem                            CASTOR, Kathy    FL -0.438  0.054\n",
      "157   dem                    SCHAKOWSKY, Janice D.    IL -0.604 -0.271\n",
      "213   dem                          DINGELL, Debbie    MI -0.405 -0.144\n",
      "255   dem                      PALLONE, Frank, Jr.    NJ -0.404 -0.172\n",
      "256   dem                             SIRES, Albio    NJ -0.404  0.098\n",
      "272   dem                              TONKO, Paul    NY -0.419 -0.263\n",
      "300   dem  BUTTERFIELD, George Kenneth, Jr. (G.K.)    NC -0.404  0.184\n",
      "(1, 0, 1, 0, 0) 2\n",
      "    party                 bioname state   dim1   dim2\n",
      "196   dem  BROWN, Anthony Gregory    MD -0.344 -0.063\n",
      "443   dem             SMITH, Adam    WA -0.287 -0.162\n",
      "(1, 0, 1, 0, 1) 39\n",
      "    party                 bioname state   dim1   dim2\n",
      "38    dem             BASS, Karen    CA -0.584 -0.098\n",
      "40    dem          HUFFMAN, Jared    CA -0.433 -0.560\n",
      "51    dem  DESAULNIER, Mark James    CA -0.527 -0.369\n",
      "55    dem  BARRAGÁN, Nanette Diaz    CA -0.516 -0.038\n",
      "76    dem            LEE, Barbara    CA -0.679 -0.576\n",
      "89    dem        DeLAURO, Rosa L.    CT -0.415 -0.117\n",
      "90    dem         LARSON, John B.    CT -0.397 -0.048\n",
      "102   dem           FRANKEL, Lois    FL -0.402 -0.070\n",
      "133   dem        WILLIAMS, Nikema    GA -0.442 -0.385\n",
      "141   dem           QUIGLEY, Mike    IL -0.322 -0.264\n",
      "(1, 0, 1, 1, 0) 7\n",
      "    party                      bioname state   dim1   dim2\n",
      "82    dem                  CROW, Jason    CO -0.288  0.264\n",
      "177   dem                YARMUTH, John    KY -0.378 -0.275\n",
      "260   dem                    KIM, Andy    NJ -0.304  0.290\n",
      "285   dem             DELGADO, Antonio    NY -0.233  0.277\n",
      "369   dem          CLYBURN, James Enos    SC -0.465  0.252\n",
      "417   dem       JOHNSON, Eddie Bernice    TX -0.485  0.198\n",
      "425   dem  CONNOLLY, Gerald E. (Gerry)    VA -0.306 -0.025\n",
      "(1, 0, 1, 1, 1) 32\n",
      "   party                   bioname state   dim1   dim2\n",
      "12   dem         GRIJALVA, Raúl M.    AZ -0.598 -0.251\n",
      "46   dem                RUIZ, Raul    CA -0.248  0.055\n",
      "47   dem              TAKANO, Mark    CA -0.464 -0.276\n",
      "48   dem           LOWENTHAL, Alan    CA -0.449 -0.384\n",
      "62   dem               LEVIN, Mike    CA -0.357  0.177\n",
      "63   dem             PORTER, Katie    CA -0.203 -0.212\n",
      "65   dem              JACOBS, Sara    CA -0.332 -0.475\n",
      "74   dem              LOFGREN, Zoe    CA -0.400 -0.433\n",
      "78   dem  NAPOLITANO, Grace Flores    CA -0.448 -0.247\n",
      "83   dem            NEGUSE, Joseph    CO -0.364 -0.312\n",
      "(1, 1, 0, 0, 1) 4\n",
      "    party          bioname state   dim1   dim2\n",
      "146   dem  KELLY, Robin L.    IL -0.464 -0.016\n",
      "155   dem   RUSH, Bobby L.    IL -0.479 -0.203\n",
      "399   dem   GARCIA, Sylvia    TX -0.811  0.513\n",
      "450   rep  GROTHMAN, Glenn    WI  0.599 -0.259\n",
      "(1, 1, 0, 1, 0) 4\n",
      "    party              bioname state   dim1   dim2\n",
      "67    rep       OBERNOLTE, Jay    CA  0.332  0.172\n",
      "224   dem        CRAIG, Angela    MN -0.277  0.663\n",
      "265   rep  VAN DREW, Jefferson    NJ  0.361 -0.500\n",
      "338   dem       SCHRADER, Kurt    OR -0.182  0.054\n",
      "(1, 1, 0, 1, 1) 12\n",
      "    party                   bioname state   dim1   dim2\n",
      "31    dem             MATSUI, Doris    CA -0.435 -0.156\n",
      "50    dem             PETERS, Scott    CA -0.184 -0.032\n",
      "71    dem       ESHOO, Anna Georges    CA -0.380 -0.408\n",
      "111   dem      SOTO, Darren Michael    FL -0.372  0.157\n",
      "205   dem              TRAHAN, Lori    MA -0.440 -0.125\n",
      "208   rep  UPTON, Frederick Stephen    MI  0.320 -0.355\n",
      "252   dem        KUSTER, Ann McLane    NH -0.258 -0.102\n",
      "311   dem          ROSS, Deborah K.    NC -0.462  0.263\n",
      "389   dem              VEASEY, Marc    TX -0.402  0.333\n",
      "398   dem       FLETCHER, Elizabeth    TX -0.425  0.905\n",
      "(1, 1, 1, 0, 0) 6\n",
      "    party                bioname state   dim1   dim2\n",
      "3     dem          SEWELL, Terri    AL -0.394  0.397\n",
      "16    dem         GALLEGO, Ruben    AZ -0.446  0.051\n",
      "18    dem  O'HALLERAN, Thomas C.    AZ -0.198  0.180\n",
      "109   dem      MURPHY, Stephanie    FL -0.161  0.123\n",
      "190   dem          GOLDEN, Jared    ME -0.117  0.375\n",
      "442   dem    STRICKLAND, Marilyn    WA -0.428  0.373\n",
      "(1, 1, 1, 0, 1) 14\n",
      "    party                                     bioname state   dim1   dim2\n",
      "34    dem  SPEIER, Karen Lorraine Jacqueline (Jackie)    CA -0.381 -0.410\n",
      "36    dem                                   CHU, Judy    CA -0.489 -0.373\n",
      "45    dem                              CÁRDENAS, Tony    CA -0.388  0.008\n",
      "86    dem                               COURTNEY, Joe    CT -0.343  0.022\n",
      "88    dem                               HAYES, Jahana    CT -0.369 -0.105\n",
      "101   dem                           WILSON, Frederica    FL -0.479 -0.011\n",
      "107   dem                          LAWSON, Alfred Jr.    FL -0.260  0.076\n",
      "214   dem                          LAWRENCE, Brenda L    MI -0.448 -0.039\n",
      "264   dem                          PAYNE, Donald, Jr.    NJ -0.520 -0.107\n",
      "324   dem                               BEATTY, Joyce    OH -0.437  0.042\n",
      "(1, 1, 1, 1, 0) 20\n",
      "    party                 bioname state   dim1   dim2\n",
      "37    dem         GARAMENDI, John    CA -0.308 -0.099\n",
      "56    dem         CARBAJAL, Salud    CA -0.302  0.097\n",
      "57    dem       CORREA, Jose Luis    CA -0.283  0.253\n",
      "59    dem    PANETTA, James Varni    CA -0.293  0.100\n",
      "87    dem         HIMES, James A.    CT -0.239 -0.234\n",
      "104   dem  DEMINGS, Valdez Butler    FL -0.322 -0.006\n",
      "121   dem            SCOTT, David    GA -0.304  0.163\n",
      "122   dem           JOHNSON, Hank    GA -0.470 -0.006\n",
      "130   dem      BOURDEAUX, Carolyn    GA -0.303  0.463\n",
      "150   dem            CASTEN, Sean    IL -0.681  0.600\n",
      "(1, 1, 1, 1, 1) 67\n",
      "   party             bioname state   dim1   dim2\n",
      "13   dem    KIRKPATRICK, Ann    AZ -0.169 -0.010\n",
      "20   dem       STANTON, Greg    AZ -0.287  0.212\n",
      "26   dem        SCHIFF, Adam    CA -0.350 -0.133\n",
      "29   dem   SÁNCHEZ, Linda T.    CA -0.508 -0.139\n",
      "30   dem          COSTA, Jim    CA -0.193  0.457\n",
      "41   dem           BERA, Ami    CA -0.236  0.012\n",
      "42   dem      SWALWELL, Eric    CA -0.365 -0.091\n",
      "44   dem     BROWNLEY, Julia    CA -0.289  0.053\n",
      "49   dem        VARGAS, Juan    CA -0.404  0.073\n",
      "52   dem  AGUILAR, Peter Rey    CA -0.300  0.135\n"
     ]
    }
   ],
   "source": [
    "display_member_data(greedy_five)"
   ],
   "metadata": {
    "collapsed": false,
    "pycharm": {
     "name": "#%%\n"
    }
   }
  },
  {
   "cell_type": "code",
   "execution_count": null,
   "outputs": [],
   "source": [],
   "metadata": {
    "collapsed": false,
    "pycharm": {
     "name": "#%%\n"
    }
   }
  }
 ],
 "metadata": {
  "kernelspec": {
   "display_name": "Python 3",
   "language": "python",
   "name": "python3"
  },
  "language_info": {
   "codemirror_mode": {
    "name": "ipython",
    "version": 2
   },
   "file_extension": ".py",
   "mimetype": "text/x-python",
   "name": "python",
   "nbconvert_exporter": "python",
   "pygments_lexer": "ipython2",
   "version": "2.7.6"
  }
 },
 "nbformat": 4,
 "nbformat_minor": 0
}